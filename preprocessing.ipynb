{
 "cells": [
  {
   "cell_type": "code",
   "execution_count": 1,
   "metadata": {},
   "outputs": [],
   "source": [
    "import pandas as pd"
   ]
  },
  {
   "cell_type": "code",
   "execution_count": 11,
   "metadata": {},
   "outputs": [],
   "source": [
    "fileName = \"data/srtr/tx_li.sas7bdat\"\n",
    "data_li = pd.read_sas(fileName)"
   ]
  },
  {
   "cell_type": "code",
   "execution_count": 12,
   "metadata": {},
   "outputs": [
    {
     "data": {
      "text/plain": [
       "Y    147015\n",
       "N      9047\n",
       "U       231\n",
       "Name: REC_GRAFT_STAT, dtype: int64"
      ]
     },
     "execution_count": 12,
     "metadata": {},
     "output_type": "execute_result"
    }
   ],
   "source": [
    "data_li[\"REC_GRAFT_STAT\"].value_counts()"
   ]
  },
  {
   "cell_type": "code",
   "execution_count": 13,
   "metadata": {},
   "outputs": [
    {
     "data": {
      "text/plain": [
       "6040.0    15232\n",
       "6030.0    11689\n",
       "6010.0    10668\n",
       "6222.0    10583\n",
       "6240.0     8554\n",
       "6002.0     7048\n",
       "6225.0     6763\n",
       "6228.0     5556\n",
       "6224.0     5479\n",
       "6229.0     4923\n",
       "6020.0     4348\n",
       "6011.0     3962\n",
       "6218.0     3546\n",
       "6231.0     3502\n",
       "6223.0     3471\n",
       "6999.0     3377\n",
       "6230.0     3034\n",
       "6217.0     2864\n",
       "6220.0     2779\n",
       "6227.0     2679\n",
       "6233.0     2675\n",
       "6216.0     2519\n",
       "6221.0     2391\n",
       "6215.0     2378\n",
       "6235.0     2369\n",
       "6234.0     2100\n",
       "6226.0     2062\n",
       "6219.0     2029\n",
       "6232.0     2024\n",
       "6236.0     1762\n",
       "          ...  \n",
       "6195.0       23\n",
       "6190.0       23\n",
       "6191.0       21\n",
       "6248.0       20\n",
       "6194.0       19\n",
       "6253.0       16\n",
       "6255.0       15\n",
       "6256.0        9\n",
       "6276.0        8\n",
       "6249.0        7\n",
       "6251.0        6\n",
       "6252.0        6\n",
       "6265.0        5\n",
       "6254.0        5\n",
       "6270.0        4\n",
       "6262.0        4\n",
       "0.0           4\n",
       "6258.0        3\n",
       "6299.0        3\n",
       "6280.0        3\n",
       "6189.0        2\n",
       "4010.0        1\n",
       "6269.0        1\n",
       "6268.0        1\n",
       "6267.0        1\n",
       "6266.0        1\n",
       "6264.0        1\n",
       "6263.0        1\n",
       "6261.0        1\n",
       "6275.0        1\n",
       "Name: CAN_LAST_STAT, Length: 95, dtype: int64"
      ]
     },
     "execution_count": 13,
     "metadata": {},
     "output_type": "execute_result"
    }
   ],
   "source": [
    "data_li[\"CAN_LAST_STAT\"].value_counts()"
   ]
  },
  {
   "cell_type": "code",
   "execution_count": 14,
   "metadata": {},
   "outputs": [
    {
     "data": {
      "text/plain": [
       "N    93173\n",
       "U    21083\n",
       "Y     9185\n",
       "Name: REC_BACTERIA_PERIT, dtype: int64"
      ]
     },
     "execution_count": 14,
     "metadata": {},
     "output_type": "execute_result"
    }
   ],
   "source": [
    "data_li[\"REC_BACTERIA_PERIT\"].value_counts()"
   ]
  },
  {
   "cell_type": "code",
   "execution_count": 47,
   "metadata": {},
   "outputs": [
    {
     "data": {
      "text/plain": [
       "[1987,\n",
       " 1988,\n",
       " 1989,\n",
       " 1990,\n",
       " 1991,\n",
       " 1992,\n",
       " 1993,\n",
       " 1994,\n",
       " 1995,\n",
       " 1996,\n",
       " 1997,\n",
       " 1998,\n",
       " 1999,\n",
       " 2000,\n",
       " 2001,\n",
       " 2002,\n",
       " 2003,\n",
       " 2004,\n",
       " 2005,\n",
       " 2006,\n",
       " 2007,\n",
       " 2008,\n",
       " 2009,\n",
       " 2010,\n",
       " 2011,\n",
       " 2012,\n",
       " 2013,\n",
       " 2014,\n",
       " 2015,\n",
       " 2016,\n",
       " 2017,\n",
       " 2018]"
      ]
     },
     "execution_count": 47,
     "metadata": {},
     "output_type": "execute_result"
    }
   ],
   "source": [
    "sorted(data[\"REC_TX_DT\"].map(lambda l: l.year).unique())"
   ]
  },
  {
   "cell_type": "code",
   "execution_count": 48,
   "metadata": {},
   "outputs": [
    {
     "data": {
      "text/plain": [
       "2017    8082\n",
       "2016    7841\n",
       "2015    7127\n",
       "2014    6730\n",
       "2006    6651\n",
       "2007    6494\n",
       "2013    6455\n",
       "2005    6444\n",
       "2011    6342\n",
       "2009    6320\n",
       "2008    6319\n",
       "2010    6291\n",
       "2012    6256\n",
       "2004    6171\n",
       "2003    5673\n",
       "2002    5332\n",
       "2001    5195\n",
       "2000    5000\n",
       "1999    4757\n",
       "1998    4519\n",
       "1997    4189\n",
       "1996    4087\n",
       "1995    3934\n",
       "1994    3652\n",
       "1993    3440\n",
       "1992    3064\n",
       "1991    2953\n",
       "1990    2690\n",
       "1989    2202\n",
       "1988    1713\n",
       "2018    1289\n",
       "1987     321\n",
       "Name: REC_TX_DT, dtype: int64"
      ]
     },
     "execution_count": 48,
     "metadata": {},
     "output_type": "execute_result"
    }
   ],
   "source": [
    "data[\"REC_TX_DT\"].map(lambda l: l.year).value_counts()"
   ]
  },
  {
   "cell_type": "code",
   "execution_count": 49,
   "metadata": {},
   "outputs": [
    {
     "data": {
      "text/plain": [
       "False    157533\n",
       "Name: REC_TX_DT, dtype: int64"
      ]
     },
     "execution_count": 49,
     "metadata": {},
     "output_type": "execute_result"
    }
   ],
   "source": [
    "data[\"REC_TX_DT\"].map(lambda l: l.year).isnull().value_counts()"
   ]
  },
  {
   "cell_type": "code",
   "execution_count": 25,
   "metadata": {},
   "outputs": [
    {
     "data": {
      "text/plain": [
       "A    74894\n",
       "D    52813\n",
       "L    14081\n",
       "R    11584\n",
       "N     3278\n",
       "Name: TFL_LASTATUS, dtype: int64"
      ]
     },
     "execution_count": 25,
     "metadata": {},
     "output_type": "execute_result"
    }
   ],
   "source": [
    "data[\"TFL_LASTATUS\"].value_counts()"
   ]
  },
  {
   "cell_type": "code",
   "execution_count": 26,
   "metadata": {},
   "outputs": [
    {
     "data": {
      "text/plain": [
       "1.0    147177\n",
       "2.0     10345\n",
       "4.0        11\n",
       "Name: REC_TX_TY, dtype: int64"
      ]
     },
     "execution_count": 26,
     "metadata": {},
     "output_type": "execute_result"
    }
   ],
   "source": [
    "data[\"REC_TX_TY\"].value_counts()"
   ]
  },
  {
   "cell_type": "code",
   "execution_count": 27,
   "metadata": {},
   "outputs": [
    {
     "data": {
      "text/plain": [
       "701.0    146073\n",
       "702.0      7880\n",
       "703.0      3533\n",
       "704.0        44\n",
       "705.0         3\n",
       "Name: REC_TX_PROCEDURE_TY, dtype: int64"
      ]
     },
     "execution_count": 27,
     "metadata": {},
     "output_type": "execute_result"
    }
   ],
   "source": [
    "data[\"REC_TX_PROCEDURE_TY\"].value_counts()"
   ]
  },
  {
   "cell_type": "code",
   "execution_count": 28,
   "metadata": {},
   "outputs": [
    {
     "data": {
      "text/plain": [
       "LI           147177\n",
       "KI LI          8300\n",
       "PA LI IN       1003\n",
       "LI IN           461\n",
       "LI HR           246\n",
       "KP LI IN        102\n",
       "PA LI            95\n",
       "LI LU            93\n",
       "KI LI HR         14\n",
       "LI HL            13\n",
       "KP LI            12\n",
       "KI LI 2LD        11\n",
       "KI LI IN          4\n",
       "PA LI LU          2\n",
       "Name: REC_TX_ORG_TY, dtype: int64"
      ]
     },
     "execution_count": 28,
     "metadata": {},
     "output_type": "execute_result"
    }
   ],
   "source": [
    "data[\"REC_TX_ORG_TY\"].value_counts()"
   ]
  },
  {
   "cell_type": "code",
   "execution_count": 29,
   "metadata": {},
   "outputs": [
    {
     "data": {
      "text/plain": [
       "LI    147177\n",
       "Name: REC_TX_ORG_TY, dtype: int64"
      ]
     },
     "execution_count": 29,
     "metadata": {},
     "output_type": "execute_result"
    }
   ],
   "source": [
    "data.loc[data[\"REC_TX_TY\"] == 1.0, \"REC_TX_ORG_TY\"].value_counts()"
   ]
  },
  {
   "cell_type": "markdown",
   "metadata": {},
   "source": [
    "<h2> Status of patient during start of study </h2>"
   ]
  },
  {
   "cell_type": "code",
   "execution_count": 30,
   "metadata": {},
   "outputs": [
    {
     "data": {
      "text/plain": [
       "A    141257\n",
       "D     10370\n",
       "R      5014\n",
       "Name: REC_PX_STAT, dtype: int64"
      ]
     },
     "execution_count": 30,
     "metadata": {},
     "output_type": "execute_result"
    }
   ],
   "source": [
    "data[\"REC_PX_STAT\"].value_counts()"
   ]
  },
  {
   "cell_type": "code",
   "execution_count": 39,
   "metadata": {},
   "outputs": [
    {
     "data": {
      "text/plain": [
       "True     104722\n",
       "False     52811\n",
       "Name: TFL_DEATH_DT, dtype: int64"
      ]
     },
     "execution_count": 39,
     "metadata": {},
     "output_type": "execute_result"
    }
   ],
   "source": [
    "data[\"TFL_DEATH_DT\"].isnull().value_counts()"
   ]
  },
  {
   "cell_type": "code",
   "execution_count": 32,
   "metadata": {},
   "outputs": [
    {
     "data": {
      "text/plain": [
       "998.0     8572\n",
       "4802.0    5243\n",
       "999.0     4716\n",
       "4660.0    4577\n",
       "4851.0    3085\n",
       "4626.0    2419\n",
       "4603.0    2137\n",
       "4645.0    1598\n",
       "4650.0    1315\n",
       "4850.0    1275\n",
       "4624.0    1209\n",
       "4856.0    1023\n",
       "4855.0     990\n",
       "4600.0     959\n",
       "4605.0     910\n",
       "4810.0     897\n",
       "4625.0     845\n",
       "4610.0     672\n",
       "4604.0     604\n",
       "4631.0     584\n",
       "4623.0     564\n",
       "4635.0     561\n",
       "4811.0     549\n",
       "4705.0     509\n",
       "4803.0     490\n",
       "4701.0     485\n",
       "4640.0     480\n",
       "4860.0     456\n",
       "4900.0     400\n",
       "4801.0     387\n",
       "4601.0     380\n",
       "4700.0     377\n",
       "4620.0     306\n",
       "4706.0     290\n",
       "4800.0     276\n",
       "4806.0     270\n",
       "4622.0     196\n",
       "4930.0     189\n",
       "4630.0     187\n",
       "4615.0     182\n",
       "4621.0     161\n",
       "4606.0     143\n",
       "4920.0     139\n",
       "4804.0     137\n",
       "4247.0     136\n",
       "4935.0     132\n",
       "4910.0     128\n",
       "4602.0     126\n",
       "4702.0     100\n",
       "4945.0      77\n",
       "4805.0      74\n",
       "4955.0      62\n",
       "4940.0      40\n",
       "4703.0      35\n",
       "4956.0      32\n",
       "4246.0      26\n",
       "4957.0      15\n",
       "4953.0      13\n",
       "4958.0      13\n",
       "4941.0       8\n",
       "4942.0       7\n",
       "4954.0       4\n",
       "4952.0       2\n",
       "4950.0       2\n",
       "4951.0       1\n",
       "Name: TFL_COD, dtype: int64"
      ]
     },
     "execution_count": 32,
     "metadata": {},
     "output_type": "execute_result"
    }
   ],
   "source": [
    "data[\"TFL_COD\"].value_counts()"
   ]
  },
  {
   "cell_type": "code",
   "execution_count": 33,
   "metadata": {},
   "outputs": [
    {
     "data": {
      "text/plain": [
       "997.0    44206\n",
       "6.0      38397\n",
       "1.0      32324\n",
       "5.0      13118\n",
       "2.0      12803\n",
       "3.0       8637\n",
       "4.0       1448\n",
       "Name: DON_DEATH_CIRCUM, dtype: int64"
      ]
     },
     "execution_count": 33,
     "metadata": {},
     "output_type": "execute_result"
    }
   ],
   "source": [
    "data[\"DON_DEATH_CIRCUM\"].value_counts()"
   ]
  },
  {
   "cell_type": "code",
   "execution_count": 35,
   "metadata": {},
   "outputs": [
    {
     "data": {
      "text/plain": [
       "998.0     9396\n",
       "4802.0    6032\n",
       "4660.0    5151\n",
       "999.0     5089\n",
       "4851.0    3103\n",
       "4626.0    2546\n",
       "4603.0    2334\n",
       "4645.0    1608\n",
       "4650.0    1350\n",
       "4850.0    1296\n",
       "4624.0    1218\n",
       "4600.0    1196\n",
       "4605.0    1064\n",
       "4856.0    1038\n",
       "4855.0    1008\n",
       "4810.0     919\n",
       "4625.0     869\n",
       "4610.0     749\n",
       "4604.0     685\n",
       "4635.0     620\n",
       "4811.0     604\n",
       "4631.0     604\n",
       "4623.0     592\n",
       "4803.0     575\n",
       "4705.0     566\n",
       "4701.0     564\n",
       "4601.0     506\n",
       "4640.0     502\n",
       "4860.0     481\n",
       "4900.0     475\n",
       "4801.0     444\n",
       "3302.0     439\n",
       "4700.0     425\n",
       "4800.0     350\n",
       "4706.0     337\n",
       "4620.0     335\n",
       "3908.0     328\n",
       "4806.0     300\n",
       "3400.0     232\n",
       "4622.0     225\n",
       "4630.0     199\n",
       "4930.0     197\n",
       "3904.0     190\n",
       "4615.0     190\n",
       "4606.0     185\n",
       "4621.0     176\n",
       "3700.0     161\n",
       "3907.0     150\n",
       "4247.0     145\n",
       "4920.0     144\n",
       "4602.0     144\n",
       "4804.0     143\n",
       "4935.0     141\n",
       "4910.0     140\n",
       "4702.0     113\n",
       "4945.0      92\n",
       "3500.0      91\n",
       "3499.0      87\n",
       "3301.0      77\n",
       "4805.0      76\n",
       "3701.0      73\n",
       "3303.0      72\n",
       "4955.0      62\n",
       "3399.0      57\n",
       "3600.0      50\n",
       "3903.0      46\n",
       "3304.0      41\n",
       "4703.0      39\n",
       "4940.0      39\n",
       "3799.0      39\n",
       "4956.0      38\n",
       "3702.0      36\n",
       "3402.0      32\n",
       "3200.0      25\n",
       "4246.0      23\n",
       "3601.0      22\n",
       "3401.0      21\n",
       "3307.0      21\n",
       "3699.0      18\n",
       "4958.0      17\n",
       "4953.0      16\n",
       "2705.0      16\n",
       "4957.0      15\n",
       "3800.0      15\n",
       "3201.0      14\n",
       "3300.0      14\n",
       "2304.0      14\n",
       "3599.0      13\n",
       "2100.0      13\n",
       "3899.0       9\n",
       "3204.0       9\n",
       "3906.0       8\n",
       "3305.0       8\n",
       "6598.0       7\n",
       "4941.0       7\n",
       "3905.0       7\n",
       "2201.0       7\n",
       "2000.0       6\n",
       "6502.0       6\n",
       "4942.0       5\n",
       "2600.0       5\n",
       "3901.0       5\n",
       "2003.0       5\n",
       "5201.0       4\n",
       "5806.0       4\n",
       "6859.0       4\n",
       "6755.0       4\n",
       "4954.0       4\n",
       "2101.0       3\n",
       "6752.0       3\n",
       "3900.0       3\n",
       "2400.0       3\n",
       "6748.0       3\n",
       "2129.0       3\n",
       "2198.0       3\n",
       "3299.0       3\n",
       "2401.0       3\n",
       "6550.0       2\n",
       "2099.0       2\n",
       "4950.0       2\n",
       "2207.0       2\n",
       "4952.0       2\n",
       "5202.0       2\n",
       "6651.0       2\n",
       "5809.0       2\n",
       "5805.0       2\n",
       "3910.0       2\n",
       "3902.0       2\n",
       "6760.0       2\n",
       "6798.0       2\n",
       "2303.0       2\n",
       "2704.0       2\n",
       "2602.0       2\n",
       "5600.0       1\n",
       "5501.0       1\n",
       "2199.0       1\n",
       "3203.0       1\n",
       "3202.0       1\n",
       "6701.0       1\n",
       "2803.0       1\n",
       "2203.0       1\n",
       "2301.0       1\n",
       "2305.0       1\n",
       "6800.0       1\n",
       "2120.0       1\n",
       "2112.0       1\n",
       "3914.0       1\n",
       "2202.0       1\n",
       "2209.0       1\n",
       "2206.0       1\n",
       "2402.0       1\n",
       "6648.0       1\n",
       "4951.0       1\n",
       "2500.0       1\n",
       "6850.0       1\n",
       "6848.0       1\n",
       "7223.0       1\n",
       "2299.0       1\n",
       "7238.0       1\n",
       "3306.0       1\n",
       "7240.0       1\n",
       "5205.0       1\n",
       "2604.0       1\n",
       "5302.0       1\n",
       "2708.0       1\n",
       "6548.0       1\n",
       "2712.0       1\n",
       "6500.0       1\n",
       "2004.0       1\n",
       "Name: PERS_OPTN_COD, dtype: int64"
      ]
     },
     "execution_count": 35,
     "metadata": {},
     "output_type": "execute_result"
    }
   ],
   "source": [
    "data[\"PERS_OPTN_COD\"].value_counts()"
   ]
  },
  {
   "cell_type": "code",
   "execution_count": 36,
   "metadata": {},
   "outputs": [
    {
     "data": {
      "text/plain": [
       "1.0      150282\n",
       "2.0        2376\n",
       "3.0        1625\n",
       "4.0        1416\n",
       "6.0         428\n",
       "5.0         171\n",
       "998.0        57\n",
       "Name: CAN_CITIZENSHIP, dtype: int64"
      ]
     },
     "execution_count": 36,
     "metadata": {},
     "output_type": "execute_result"
    }
   ],
   "source": [
    "data[\"CAN_CITIZENSHIP\"].value_counts()"
   ]
  },
  {
   "cell_type": "code",
   "execution_count": 42,
   "metadata": {},
   "outputs": [
    {
     "data": {
      "text/html": [
       "<div>\n",
       "<style scoped>\n",
       "    .dataframe tbody tr th:only-of-type {\n",
       "        vertical-align: middle;\n",
       "    }\n",
       "\n",
       "    .dataframe tbody tr th {\n",
       "        vertical-align: top;\n",
       "    }\n",
       "\n",
       "    .dataframe thead th {\n",
       "        text-align: right;\n",
       "    }\n",
       "</style>\n",
       "<table border=\"1\" class=\"dataframe\">\n",
       "  <thead>\n",
       "    <tr style=\"text-align: right;\">\n",
       "      <th></th>\n",
       "      <th>PERS_ID</th>\n",
       "      <th>PX_ID</th>\n",
       "      <th>WL_ORG</th>\n",
       "      <th>CAN_GENDER</th>\n",
       "      <th>CAN_ABO</th>\n",
       "      <th>CAN_RACE</th>\n",
       "      <th>CAN_RACE_SRTR</th>\n",
       "      <th>CAN_ETHNICITY_SRTR</th>\n",
       "      <th>DON_TY</th>\n",
       "      <th>REC_TX_PROCEDURE_TY</th>\n",
       "      <th>...</th>\n",
       "      <th>CAN_PREV_HR</th>\n",
       "      <th>CAN_PREV_LU</th>\n",
       "      <th>CAN_PREV_KP</th>\n",
       "      <th>CAN_PREV_HL</th>\n",
       "      <th>CAN_PREV_TX</th>\n",
       "      <th>ORG_AR</th>\n",
       "      <th>PERS_NEXTTX</th>\n",
       "      <th>PERS_NEXTTX_TRR_ID</th>\n",
       "      <th>CAN_TRR_EXISTS</th>\n",
       "      <th>DONOR_ID</th>\n",
       "    </tr>\n",
       "  </thead>\n",
       "  <tbody>\n",
       "    <tr>\n",
       "      <th>0</th>\n",
       "      <td>5275686.0</td>\n",
       "      <td>1191210.0</td>\n",
       "      <td>LI</td>\n",
       "      <td>M</td>\n",
       "      <td>A</td>\n",
       "      <td>8.0</td>\n",
       "      <td>WHITE</td>\n",
       "      <td>NLATIN</td>\n",
       "      <td>NaN</td>\n",
       "      <td>NaN</td>\n",
       "      <td>...</td>\n",
       "      <td>0.0</td>\n",
       "      <td>0.0</td>\n",
       "      <td>0.0</td>\n",
       "      <td>0.0</td>\n",
       "      <td>0.0</td>\n",
       "      <td>LI</td>\n",
       "      <td>NaT</td>\n",
       "      <td>NaN</td>\n",
       "      <td>0.0</td>\n",
       "      <td>NaN</td>\n",
       "    </tr>\n",
       "    <tr>\n",
       "      <th>1</th>\n",
       "      <td>5271525.0</td>\n",
       "      <td>1186558.0</td>\n",
       "      <td>LI</td>\n",
       "      <td>M</td>\n",
       "      <td>O</td>\n",
       "      <td>8.0</td>\n",
       "      <td>WHITE</td>\n",
       "      <td>NLATIN</td>\n",
       "      <td>NaN</td>\n",
       "      <td>NaN</td>\n",
       "      <td>...</td>\n",
       "      <td>0.0</td>\n",
       "      <td>0.0</td>\n",
       "      <td>0.0</td>\n",
       "      <td>0.0</td>\n",
       "      <td>0.0</td>\n",
       "      <td>LI</td>\n",
       "      <td>NaT</td>\n",
       "      <td>NaN</td>\n",
       "      <td>0.0</td>\n",
       "      <td>NaN</td>\n",
       "    </tr>\n",
       "    <tr>\n",
       "      <th>2</th>\n",
       "      <td>5263264.0</td>\n",
       "      <td>1176997.0</td>\n",
       "      <td>LI</td>\n",
       "      <td>M</td>\n",
       "      <td>A</td>\n",
       "      <td>2000.0</td>\n",
       "      <td>WHITE</td>\n",
       "      <td>LATINO</td>\n",
       "      <td>NaN</td>\n",
       "      <td>NaN</td>\n",
       "      <td>...</td>\n",
       "      <td>0.0</td>\n",
       "      <td>0.0</td>\n",
       "      <td>0.0</td>\n",
       "      <td>0.0</td>\n",
       "      <td>0.0</td>\n",
       "      <td>LI</td>\n",
       "      <td>NaT</td>\n",
       "      <td>NaN</td>\n",
       "      <td>0.0</td>\n",
       "      <td>NaN</td>\n",
       "    </tr>\n",
       "    <tr>\n",
       "      <th>3</th>\n",
       "      <td>5279240.0</td>\n",
       "      <td>1195952.0</td>\n",
       "      <td>LI</td>\n",
       "      <td>F</td>\n",
       "      <td>A</td>\n",
       "      <td>2000.0</td>\n",
       "      <td>WHITE</td>\n",
       "      <td>LATINO</td>\n",
       "      <td>NaN</td>\n",
       "      <td>NaN</td>\n",
       "      <td>...</td>\n",
       "      <td>0.0</td>\n",
       "      <td>0.0</td>\n",
       "      <td>0.0</td>\n",
       "      <td>0.0</td>\n",
       "      <td>0.0</td>\n",
       "      <td>LI</td>\n",
       "      <td>NaT</td>\n",
       "      <td>NaN</td>\n",
       "      <td>0.0</td>\n",
       "      <td>NaN</td>\n",
       "    </tr>\n",
       "    <tr>\n",
       "      <th>4</th>\n",
       "      <td>5269790.0</td>\n",
       "      <td>1184101.0</td>\n",
       "      <td>LI</td>\n",
       "      <td>M</td>\n",
       "      <td>O</td>\n",
       "      <td>64.0</td>\n",
       "      <td>ASIAN</td>\n",
       "      <td>NLATIN</td>\n",
       "      <td>NaN</td>\n",
       "      <td>NaN</td>\n",
       "      <td>...</td>\n",
       "      <td>0.0</td>\n",
       "      <td>0.0</td>\n",
       "      <td>0.0</td>\n",
       "      <td>0.0</td>\n",
       "      <td>0.0</td>\n",
       "      <td>LI</td>\n",
       "      <td>NaT</td>\n",
       "      <td>NaN</td>\n",
       "      <td>0.0</td>\n",
       "      <td>NaN</td>\n",
       "    </tr>\n",
       "    <tr>\n",
       "      <th>5</th>\n",
       "      <td>5261578.0</td>\n",
       "      <td>1174679.0</td>\n",
       "      <td>LI</td>\n",
       "      <td>F</td>\n",
       "      <td>O</td>\n",
       "      <td>8.0</td>\n",
       "      <td>WHITE</td>\n",
       "      <td>NLATIN</td>\n",
       "      <td>NaN</td>\n",
       "      <td>NaN</td>\n",
       "      <td>...</td>\n",
       "      <td>0.0</td>\n",
       "      <td>0.0</td>\n",
       "      <td>0.0</td>\n",
       "      <td>0.0</td>\n",
       "      <td>0.0</td>\n",
       "      <td>LI</td>\n",
       "      <td>NaT</td>\n",
       "      <td>NaN</td>\n",
       "      <td>0.0</td>\n",
       "      <td>NaN</td>\n",
       "    </tr>\n",
       "    <tr>\n",
       "      <th>6</th>\n",
       "      <td>5274052.0</td>\n",
       "      <td>1188933.0</td>\n",
       "      <td>LI</td>\n",
       "      <td>F</td>\n",
       "      <td>O</td>\n",
       "      <td>2000.0</td>\n",
       "      <td>WHITE</td>\n",
       "      <td>LATINO</td>\n",
       "      <td>NaN</td>\n",
       "      <td>NaN</td>\n",
       "      <td>...</td>\n",
       "      <td>0.0</td>\n",
       "      <td>0.0</td>\n",
       "      <td>0.0</td>\n",
       "      <td>0.0</td>\n",
       "      <td>0.0</td>\n",
       "      <td>LI</td>\n",
       "      <td>NaT</td>\n",
       "      <td>NaN</td>\n",
       "      <td>0.0</td>\n",
       "      <td>NaN</td>\n",
       "    </tr>\n",
       "    <tr>\n",
       "      <th>7</th>\n",
       "      <td>5048973.0</td>\n",
       "      <td>1166545.0</td>\n",
       "      <td>LI</td>\n",
       "      <td>M</td>\n",
       "      <td>B</td>\n",
       "      <td>8.0</td>\n",
       "      <td>WHITE</td>\n",
       "      <td>NLATIN</td>\n",
       "      <td>NaN</td>\n",
       "      <td>NaN</td>\n",
       "      <td>...</td>\n",
       "      <td>0.0</td>\n",
       "      <td>0.0</td>\n",
       "      <td>0.0</td>\n",
       "      <td>0.0</td>\n",
       "      <td>0.0</td>\n",
       "      <td>LI</td>\n",
       "      <td>NaT</td>\n",
       "      <td>NaN</td>\n",
       "      <td>0.0</td>\n",
       "      <td>NaN</td>\n",
       "    </tr>\n",
       "    <tr>\n",
       "      <th>8</th>\n",
       "      <td>5277521.0</td>\n",
       "      <td>1193560.0</td>\n",
       "      <td>LI</td>\n",
       "      <td>F</td>\n",
       "      <td>O</td>\n",
       "      <td>8.0</td>\n",
       "      <td>WHITE</td>\n",
       "      <td>NLATIN</td>\n",
       "      <td>NaN</td>\n",
       "      <td>NaN</td>\n",
       "      <td>...</td>\n",
       "      <td>0.0</td>\n",
       "      <td>0.0</td>\n",
       "      <td>0.0</td>\n",
       "      <td>0.0</td>\n",
       "      <td>0.0</td>\n",
       "      <td>LI</td>\n",
       "      <td>NaT</td>\n",
       "      <td>NaN</td>\n",
       "      <td>0.0</td>\n",
       "      <td>NaN</td>\n",
       "    </tr>\n",
       "    <tr>\n",
       "      <th>9</th>\n",
       "      <td>5254682.0</td>\n",
       "      <td>1167088.0</td>\n",
       "      <td>LI</td>\n",
       "      <td>M</td>\n",
       "      <td>O</td>\n",
       "      <td>8.0</td>\n",
       "      <td>WHITE</td>\n",
       "      <td>NLATIN</td>\n",
       "      <td>NaN</td>\n",
       "      <td>NaN</td>\n",
       "      <td>...</td>\n",
       "      <td>0.0</td>\n",
       "      <td>0.0</td>\n",
       "      <td>0.0</td>\n",
       "      <td>0.0</td>\n",
       "      <td>0.0</td>\n",
       "      <td>LI</td>\n",
       "      <td>NaT</td>\n",
       "      <td>NaN</td>\n",
       "      <td>0.0</td>\n",
       "      <td>NaN</td>\n",
       "    </tr>\n",
       "  </tbody>\n",
       "</table>\n",
       "<p>10 rows × 169 columns</p>\n",
       "</div>"
      ],
      "text/plain": [
       "     PERS_ID      PX_ID WL_ORG CAN_GENDER CAN_ABO  CAN_RACE CAN_RACE_SRTR  \\\n",
       "0  5275686.0  1191210.0     LI          M       A       8.0         WHITE   \n",
       "1  5271525.0  1186558.0     LI          M       O       8.0         WHITE   \n",
       "2  5263264.0  1176997.0     LI          M       A    2000.0         WHITE   \n",
       "3  5279240.0  1195952.0     LI          F       A    2000.0         WHITE   \n",
       "4  5269790.0  1184101.0     LI          M       O      64.0         ASIAN   \n",
       "5  5261578.0  1174679.0     LI          F       O       8.0         WHITE   \n",
       "6  5274052.0  1188933.0     LI          F       O    2000.0         WHITE   \n",
       "7  5048973.0  1166545.0     LI          M       B       8.0         WHITE   \n",
       "8  5277521.0  1193560.0     LI          F       O       8.0         WHITE   \n",
       "9  5254682.0  1167088.0     LI          M       O       8.0         WHITE   \n",
       "\n",
       "  CAN_ETHNICITY_SRTR DON_TY  REC_TX_PROCEDURE_TY   ...    CAN_PREV_HR  \\\n",
       "0             NLATIN    NaN                  NaN   ...            0.0   \n",
       "1             NLATIN    NaN                  NaN   ...            0.0   \n",
       "2             LATINO    NaN                  NaN   ...            0.0   \n",
       "3             LATINO    NaN                  NaN   ...            0.0   \n",
       "4             NLATIN    NaN                  NaN   ...            0.0   \n",
       "5             NLATIN    NaN                  NaN   ...            0.0   \n",
       "6             LATINO    NaN                  NaN   ...            0.0   \n",
       "7             NLATIN    NaN                  NaN   ...            0.0   \n",
       "8             NLATIN    NaN                  NaN   ...            0.0   \n",
       "9             NLATIN    NaN                  NaN   ...            0.0   \n",
       "\n",
       "  CAN_PREV_LU CAN_PREV_KP CAN_PREV_HL CAN_PREV_TX  ORG_AR  PERS_NEXTTX  \\\n",
       "0         0.0         0.0         0.0         0.0      LI          NaT   \n",
       "1         0.0         0.0         0.0         0.0      LI          NaT   \n",
       "2         0.0         0.0         0.0         0.0      LI          NaT   \n",
       "3         0.0         0.0         0.0         0.0      LI          NaT   \n",
       "4         0.0         0.0         0.0         0.0      LI          NaT   \n",
       "5         0.0         0.0         0.0         0.0      LI          NaT   \n",
       "6         0.0         0.0         0.0         0.0      LI          NaT   \n",
       "7         0.0         0.0         0.0         0.0      LI          NaT   \n",
       "8         0.0         0.0         0.0         0.0      LI          NaT   \n",
       "9         0.0         0.0         0.0         0.0      LI          NaT   \n",
       "\n",
       "  PERS_NEXTTX_TRR_ID CAN_TRR_EXISTS DONOR_ID  \n",
       "0                NaN            0.0      NaN  \n",
       "1                NaN            0.0      NaN  \n",
       "2                NaN            0.0      NaN  \n",
       "3                NaN            0.0      NaN  \n",
       "4                NaN            0.0      NaN  \n",
       "5                NaN            0.0      NaN  \n",
       "6                NaN            0.0      NaN  \n",
       "7                NaN            0.0      NaN  \n",
       "8                NaN            0.0      NaN  \n",
       "9                NaN            0.0      NaN  \n",
       "\n",
       "[10 rows x 169 columns]"
      ]
     },
     "execution_count": 42,
     "metadata": {},
     "output_type": "execute_result"
    }
   ],
   "source": [
    "cand_fileName = \"data/srtr/cand_liin.sas7bdat\"\n",
    "data = pd.read_sas(cand_fileName)\n",
    "data.head(10)"
   ]
  },
  {
   "cell_type": "code",
   "execution_count": 10,
   "metadata": {},
   "outputs": [
    {
     "data": {
      "text/plain": [
       "LI    282437\n",
       "IN      4801\n",
       "Name: WL_ORG, dtype: int64"
      ]
     },
     "execution_count": 10,
     "metadata": {},
     "output_type": "execute_result"
    }
   ],
   "source": [
    "data[\"WL_ORG\"].value_counts()"
   ]
  },
  {
   "cell_type": "code",
   "execution_count": 11,
   "metadata": {},
   "outputs": [
    {
     "data": {
      "text/plain": [
       "LI    282437\n",
       "IN      4801\n",
       "Name: ORG_AR, dtype: int64"
      ]
     },
     "execution_count": 11,
     "metadata": {},
     "output_type": "execute_result"
    }
   ],
   "source": [
    "data[\"ORG_AR\"].value_counts()"
   ]
  },
  {
   "cell_type": "code",
   "execution_count": 17,
   "metadata": {},
   "outputs": [
    {
     "data": {
      "text/plain": [
       "6240.0    15442\n",
       "6210.0     9709\n",
       "6214.0     8951\n",
       "6213.0     8921\n",
       "6212.0     8806\n",
       "6215.0     8801\n",
       "6211.0     8428\n",
       "6216.0     8397\n",
       "6208.0     8190\n",
       "6209.0     8075\n",
       "6217.0     7771\n",
       "6207.0     7560\n",
       "6218.0     7466\n",
       "6220.0     6213\n",
       "6206.0     6113\n",
       "6221.0     6009\n",
       "6219.0     5851\n",
       "6222.0     5602\n",
       "6223.0     5411\n",
       "6224.0     4833\n",
       "6225.0     3932\n",
       "6226.0     3702\n",
       "6227.0     3502\n",
       "6228.0     3370\n",
       "6229.0     3288\n",
       "6230.0     3171\n",
       "6231.0     3082\n",
       "6232.0     2932\n",
       "6233.0     2796\n",
       "6235.0     2791\n",
       "          ...  \n",
       "6248.0       22\n",
       "6251.0       22\n",
       "6249.0       18\n",
       "6252.0       18\n",
       "6250.0       14\n",
       "6254.0       12\n",
       "6257.0       11\n",
       "6264.0        7\n",
       "6253.0        7\n",
       "6260.0        6\n",
       "6255.0        6\n",
       "6259.0        5\n",
       "6261.0        5\n",
       "6256.0        5\n",
       "6263.0        4\n",
       "6262.0        4\n",
       "6258.0        3\n",
       "6266.0        3\n",
       "6265.0        3\n",
       "6273.0        2\n",
       "6271.0        2\n",
       "6270.0        2\n",
       "6269.0        2\n",
       "6294.0        1\n",
       "6292.0        1\n",
       "6267.0        1\n",
       "6274.0        1\n",
       "6280.0        1\n",
       "6291.0        1\n",
       "6188.0        1\n",
       "Name: CAN_LAST_SRTR_LAB_MELD, Length: 89, dtype: int64"
      ]
     },
     "execution_count": 17,
     "metadata": {},
     "output_type": "execute_result"
    }
   ],
   "source": [
    "data.loc[data[\"WL_ORG\"] == \"LI\", (\"CAN_LAST_SRTR_LAB_MELD\")].value_counts()"
   ]
  },
  {
   "cell_type": "code",
   "execution_count": 14,
   "metadata": {},
   "outputs": [
    {
     "data": {
      "text/plain": [
       "M    194694\n",
       "P     11578\n",
       "Name: CAN_LAST_SRTR_LAB_MELD_TY, dtype: int64"
      ]
     },
     "execution_count": 14,
     "metadata": {},
     "output_type": "execute_result"
    }
   ],
   "source": [
    "data.loc[data[\"WL_ORG\"] == \"LI\", (\"CAN_LAST_SRTR_LAB_MELD_TY\")].value_counts()"
   ]
  },
  {
   "cell_type": "code",
   "execution_count": 15,
   "metadata": {},
   "outputs": [
    {
     "data": {
      "text/plain": [
       "6206.0    19235\n",
       "6214.0    11539\n",
       "6213.0    11276\n",
       "6212.0    10824\n",
       "6215.0    10507\n",
       "6210.0    10363\n",
       "6211.0    10280\n",
       "6216.0     9523\n",
       "6209.0     8728\n",
       "6208.0     8640\n",
       "6217.0     8475\n",
       "6207.0     7805\n",
       "6218.0     7479\n",
       "6240.0     6920\n",
       "6220.0     6101\n",
       "6219.0     5972\n",
       "6221.0     5621\n",
       "6222.0     4759\n",
       "6223.0     4226\n",
       "6224.0     3623\n",
       "6225.0     2998\n",
       "6226.0     2826\n",
       "6227.0     2522\n",
       "6228.0     2448\n",
       "6229.0     2369\n",
       "6230.0     2296\n",
       "6231.0     2041\n",
       "6232.0     1895\n",
       "6233.0     1786\n",
       "6234.0     1672\n",
       "          ...  \n",
       "6243.0       39\n",
       "6189.0       38\n",
       "6245.0       35\n",
       "6246.0       26\n",
       "6247.0       24\n",
       "6248.0       24\n",
       "6251.0       16\n",
       "6252.0       14\n",
       "6253.0       14\n",
       "6254.0        9\n",
       "6257.0        8\n",
       "6255.0        7\n",
       "6259.0        7\n",
       "6250.0        6\n",
       "6258.0        6\n",
       "6264.0        6\n",
       "6249.0        5\n",
       "6267.0        4\n",
       "6260.0        4\n",
       "6263.0        3\n",
       "6256.0        3\n",
       "6269.0        2\n",
       "6266.0        2\n",
       "6265.0        2\n",
       "6262.0        2\n",
       "6261.0        2\n",
       "6290.0        1\n",
       "6280.0        1\n",
       "6270.0        1\n",
       "6188.0        1\n",
       "Name: CAN_INIT_SRTR_LAB_MELD, Length: 84, dtype: int64"
      ]
     },
     "execution_count": 15,
     "metadata": {},
     "output_type": "execute_result"
    }
   ],
   "source": [
    "data.loc[data[\"WL_ORG\"] == \"LI\", (\"CAN_INIT_SRTR_LAB_MELD\")].value_counts()"
   ]
  },
  {
   "cell_type": "code",
   "execution_count": 16,
   "metadata": {},
   "outputs": [
    {
     "data": {
      "text/plain": [
       "M    194146\n",
       "P     12126\n",
       "Name: CAN_INIT_SRTR_LAB_MELD_TY, dtype: int64"
      ]
     },
     "execution_count": 16,
     "metadata": {},
     "output_type": "execute_result"
    }
   ],
   "source": [
    "data.loc[data[\"WL_ORG\"] == \"LI\", (\"CAN_INIT_SRTR_LAB_MELD_TY\")].value_counts()"
   ]
  },
  {
   "cell_type": "code",
   "execution_count": 21,
   "metadata": {},
   "outputs": [
    {
     "data": {
      "text/plain": [
       "False    206272\n",
       "True      76165\n",
       "Name: CAN_LAST_SRTR_LAB_MELD, dtype: int64"
      ]
     },
     "execution_count": 21,
     "metadata": {},
     "output_type": "execute_result"
    }
   ],
   "source": [
    "data.loc[data[\"WL_ORG\"] == \"LI\", (\"CAN_LAST_SRTR_LAB_MELD\")].isnull().value_counts()"
   ]
  },
  {
   "cell_type": "code",
   "execution_count": 22,
   "metadata": {},
   "outputs": [
    {
     "data": {
      "text/plain": [
       "False    206272\n",
       "True      76165\n",
       "Name: CAN_INIT_SRTR_LAB_MELD, dtype: int64"
      ]
     },
     "execution_count": 22,
     "metadata": {},
     "output_type": "execute_result"
    }
   ],
   "source": [
    "data.loc[data[\"WL_ORG\"] == \"LI\", (\"CAN_INIT_SRTR_LAB_MELD\")].isnull().value_counts()"
   ]
  },
  {
   "cell_type": "code",
   "execution_count": 31,
   "metadata": {},
   "outputs": [
    {
     "data": {
      "text/plain": [
       "False    286932\n",
       "True        306\n",
       "Name: CAN_ACTIVATE_DT, dtype: int64"
      ]
     },
     "execution_count": 31,
     "metadata": {},
     "output_type": "execute_result"
    }
   ],
   "source": [
    "data[\"CAN_ACTIVATE_DT\"].map(lambda l: l.year).isnull().value_counts()"
   ]
  },
  {
   "cell_type": "code",
   "execution_count": 45,
   "metadata": {},
   "outputs": [
    {
     "data": {
      "text/plain": [
       "[1985.0,\n",
       " 1986.0,\n",
       " 1987.0,\n",
       " 1988.0,\n",
       " 1989.0,\n",
       " 1990.0,\n",
       " 1991.0,\n",
       " 1992.0,\n",
       " 1993.0,\n",
       " 1994.0,\n",
       " 1995.0,\n",
       " 1996.0,\n",
       " 1997.0,\n",
       " 1998.0,\n",
       " 1999.0,\n",
       " 2000.0,\n",
       " 2001.0,\n",
       " 2002.0,\n",
       " 2003.0,\n",
       " 2004.0,\n",
       " 2005.0,\n",
       " 2006.0,\n",
       " 2007.0,\n",
       " 2008.0,\n",
       " 2009.0,\n",
       " 2010.0,\n",
       " 2011.0,\n",
       " 2012.0,\n",
       " 2013.0,\n",
       " 2014.0,\n",
       " 2015.0,\n",
       " 2016.0,\n",
       " 2017.0,\n",
       " 2018.0,\n",
       " nan]"
      ]
     },
     "execution_count": 45,
     "metadata": {},
     "output_type": "execute_result"
    }
   ],
   "source": [
    "sorted(data[\"CAN_ACTIVATE_DT\"].map(lambda l: l.year).unique())"
   ]
  },
  {
   "cell_type": "code",
   "execution_count": 43,
   "metadata": {},
   "outputs": [
    {
     "data": {
      "text/plain": [
       "2017.0    13102\n",
       "2016.0    12928\n",
       "2010.0    12238\n",
       "2015.0    12198\n",
       "2013.0    12188\n",
       "2014.0    12164\n",
       "2011.0    12118\n",
       "2012.0    11766\n",
       "2009.0    11520\n",
       "2008.0    11456\n",
       "2007.0    11364\n",
       "2006.0    11341\n",
       "2005.0    11225\n",
       "2001.0    11173\n",
       "2000.0    11129\n",
       "2004.0    10915\n",
       "1999.0    10873\n",
       "2003.0    10517\n",
       "1998.0     9735\n",
       "2002.0     9724\n",
       "1997.0     8728\n",
       "1996.0     8194\n",
       "1995.0     7415\n",
       "1994.0     6419\n",
       "1993.0     5641\n",
       "1992.0     4835\n",
       "1991.0     4193\n",
       "1990.0     3702\n",
       "1989.0     2964\n",
       "2018.0     2199\n",
       "1988.0     2185\n",
       "1987.0      694\n",
       "1986.0       64\n",
       "1985.0       25\n",
       "Name: CAN_ACTIVATE_DT, dtype: int64"
      ]
     },
     "execution_count": 43,
     "metadata": {},
     "output_type": "execute_result"
    }
   ],
   "source": [
    "year_counts = data[\"CAN_ACTIVATE_DT\"].map(lambda l: l.year).value_counts()\n",
    "year_counts"
   ]
  },
  {
   "cell_type": "code",
   "execution_count": 37,
   "metadata": {},
   "outputs": [
    {
     "ename": "ValueError",
     "evalue": "The truth value of a Series is ambiguous. Use a.empty, a.bool(), a.item(), a.any() or a.all().",
     "output_type": "error",
     "traceback": [
      "\u001b[0;31m----------------------------------------\u001b[0m",
      "\u001b[0;31mValueError\u001b[0mTraceback (most recent call last)",
      "\u001b[0;32m<ipython-input-37-10fa2bf27db0>\u001b[0m in \u001b[0;36m<module>\u001b[0;34m()\u001b[0m\n\u001b[0;32m----> 1\u001b[0;31m \u001b[0mdata\u001b[0m\u001b[0;34m.\u001b[0m\u001b[0mloc\u001b[0m\u001b[0;34m[\u001b[0m\u001b[0;34m(\u001b[0m\u001b[0mdata\u001b[0m\u001b[0;34m[\u001b[0m\u001b[0;34m\"WL_ORG\"\u001b[0m\u001b[0;34m]\u001b[0m \u001b[0;34m==\u001b[0m \u001b[0;34m\"LI\"\u001b[0m\u001b[0;34m)\u001b[0m \u001b[0;32mand\u001b[0m \u001b[0;34m(\u001b[0m\u001b[0mdata\u001b[0m\u001b[0;34m[\u001b[0m\u001b[0;34m\"CAN_LAST_SRTR_LAB_MELD\"\u001b[0m\u001b[0;34m]\u001b[0m \u001b[0;34m!=\u001b[0m \u001b[0mnp\u001b[0m\u001b[0;34m.\u001b[0m\u001b[0mnan\u001b[0m\u001b[0;34m)\u001b[0m\u001b[0;34m,\u001b[0m \u001b[0;34m(\u001b[0m\u001b[0;34m\"CAN_ACTIVATE_DT\"\u001b[0m\u001b[0;34m)\u001b[0m\u001b[0;34m]\u001b[0m\u001b[0;34m.\u001b[0m\u001b[0mmap\u001b[0m\u001b[0;34m(\u001b[0m\u001b[0;32mlambda\u001b[0m \u001b[0ml\u001b[0m\u001b[0;34m:\u001b[0m \u001b[0ml\u001b[0m\u001b[0;34m.\u001b[0m\u001b[0myear\u001b[0m\u001b[0;34m)\u001b[0m\u001b[0;34m.\u001b[0m\u001b[0mvalue_counts\u001b[0m\u001b[0;34m(\u001b[0m\u001b[0;34m)\u001b[0m\u001b[0;34m\u001b[0m\u001b[0m\n\u001b[0m",
      "\u001b[0;32m/usr/local/lib/python2.7/dist-packages/pandas/core/generic.pyc\u001b[0m in \u001b[0;36m__nonzero__\u001b[0;34m(self)\u001b[0m\n\u001b[1;32m   1119\u001b[0m         raise ValueError(\"The truth value of a {0} is ambiguous. \"\n\u001b[1;32m   1120\u001b[0m                          \u001b[0;34m\"Use a.empty, a.bool(), a.item(), a.any() or a.all().\"\u001b[0m\u001b[0;34m\u001b[0m\u001b[0m\n\u001b[0;32m-> 1121\u001b[0;31m                          .format(self.__class__.__name__))\n\u001b[0m\u001b[1;32m   1122\u001b[0m \u001b[0;34m\u001b[0m\u001b[0m\n\u001b[1;32m   1123\u001b[0m     \u001b[0m__bool__\u001b[0m \u001b[0;34m=\u001b[0m \u001b[0m__nonzero__\u001b[0m\u001b[0;34m\u001b[0m\u001b[0m\n",
      "\u001b[0;31mValueError\u001b[0m: The truth value of a Series is ambiguous. Use a.empty, a.bool(), a.item(), a.any() or a.all()."
     ]
    }
   ],
   "source": [
    "data.loc[(data[\"WL_ORG\"] == \"LI\") and (data[\"CAN_LAST_SRTR_LAB_MELD\"] != np.nan), (\"CAN_ACTIVATE_DT\")].map(lambda l: l.year).value_counts()"
   ]
  },
  {
   "cell_type": "code",
   "execution_count": 2,
   "metadata": {},
   "outputs": [],
   "source": [
    "fileName = \"data/srtr/txf_li.sas7bdat\"\n",
    "data = pd.read_sas(fileName)"
   ]
  },
  {
   "cell_type": "code",
   "execution_count": 4,
   "metadata": {},
   "outputs": [
    {
     "data": {
      "text/plain": [
       "6.0      129850\n",
       "10.0     120888\n",
       "20.0     106659\n",
       "30.0      95242\n",
       "40.0      84527\n",
       "50.0      75147\n",
       "60.0      66588\n",
       "70.0      58617\n",
       "80.0      51328\n",
       "90.0      44619\n",
       "999.0     42022\n",
       "100.0     38563\n",
       "110.0     32971\n",
       "120.0     27833\n",
       "130.0     23437\n",
       "140.0     19631\n",
       "150.0     16322\n",
       "998.0     13870\n",
       "160.0     13435\n",
       "170.0     10955\n",
       "180.0      8824\n",
       "190.0      7056\n",
       "800.0      6446\n",
       "200.0      5623\n",
       "210.0      4363\n",
       "220.0      3341\n",
       "230.0      2514\n",
       "240.0      1817\n",
       "250.0      1318\n",
       "260.0       921\n",
       "270.0       592\n",
       "280.0       326\n",
       "290.0       143\n",
       "300.0        29\n",
       "Name: TFL_FOL_CD, dtype: int64"
      ]
     },
     "execution_count": 4,
     "metadata": {},
     "output_type": "execute_result"
    }
   ],
   "source": [
    "data[\"TFL_FOL_CD\"].value_counts()"
   ]
  },
  {
   "cell_type": "code",
   "execution_count": 10,
   "metadata": {},
   "outputs": [
    {
     "data": {
      "text/plain": [
       "Counter({1: 11190,\n",
       "         2: 12771,\n",
       "         3: 12968,\n",
       "         4: 11074,\n",
       "         5: 9761,\n",
       "         6: 8988,\n",
       "         7: 8442,\n",
       "         8: 7706,\n",
       "         9: 7040,\n",
       "         10: 6396,\n",
       "         11: 5932,\n",
       "         12: 5445,\n",
       "         13: 4748,\n",
       "         14: 4108,\n",
       "         15: 3622,\n",
       "         16: 3047,\n",
       "         17: 2641,\n",
       "         18: 2256,\n",
       "         19: 1939,\n",
       "         20: 1524,\n",
       "         21: 1389,\n",
       "         22: 1076,\n",
       "         23: 847,\n",
       "         24: 718,\n",
       "         25: 540,\n",
       "         26: 390,\n",
       "         27: 329,\n",
       "         28: 275,\n",
       "         29: 175,\n",
       "         30: 119,\n",
       "         31: 28,\n",
       "         32: 2})"
      ]
     },
     "execution_count": 10,
     "metadata": {},
     "output_type": "execute_result"
    }
   ],
   "source": [
    "from collections import Counter\n",
    "Counter(list(reversed(sorted(data[\"PX_ID\"].value_counts()))))"
   ]
  },
  {
   "cell_type": "code",
   "execution_count": null,
   "metadata": {},
   "outputs": [],
   "source": []
  }
 ],
 "metadata": {
  "kernelspec": {
   "display_name": "Python 2",
   "language": "python",
   "name": "python2"
  },
  "language_info": {
   "codemirror_mode": {
    "name": "ipython",
    "version": 2
   },
   "file_extension": ".py",
   "mimetype": "text/x-python",
   "name": "python",
   "nbconvert_exporter": "python",
   "pygments_lexer": "ipython2",
   "version": "2.7.12"
  }
 },
 "nbformat": 4,
 "nbformat_minor": 2
}
